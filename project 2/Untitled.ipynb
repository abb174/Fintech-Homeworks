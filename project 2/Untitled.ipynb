{
 "cells": [
  {
   "cell_type": "code",
   "execution_count": 3,
   "id": "112f6376-78ae-493b-9dab-6121e8d2b6c3",
   "metadata": {},
   "outputs": [],
   "source": [
    "#import libraries\n",
    "import os\n",
    "import requests\n",
    "import pandas as pd\n",
    "from dotenv import load_dotenv\n",
    "import alpaca_trade_api as tradeapi\n",
    "\n"
   ]
  },
  {
   "cell_type": "code",
   "execution_count": 4,
   "id": "6604c4e4-902c-4783-8fe5-984e0fc88f1a",
   "metadata": {},
   "outputs": [
    {
     "data": {
      "text/plain": [
       "True"
      ]
     },
     "execution_count": 4,
     "metadata": {},
     "output_type": "execute_result"
    }
   ],
   "source": [
    "# Load .env enviroment variables\n",
    "load_dotenv()"
   ]
  },
  {
   "cell_type": "code",
   "execution_count": 8,
   "id": "358fca8d-ecc6-4249-97b2-d25b7bedcb34",
   "metadata": {},
   "outputs": [],
   "source": [
    "import json"
   ]
  },
  {
   "cell_type": "code",
   "execution_count": 22,
   "id": "9daf2399-e055-4719-92ef-dd8cfdacabf3",
   "metadata": {},
   "outputs": [
    {
     "data": {
      "text/html": [
       "<div>\n",
       "<style scoped>\n",
       "    .dataframe tbody tr th:only-of-type {\n",
       "        vertical-align: middle;\n",
       "    }\n",
       "\n",
       "    .dataframe tbody tr th {\n",
       "        vertical-align: top;\n",
       "    }\n",
       "\n",
       "    .dataframe thead th {\n",
       "        text-align: right;\n",
       "    }\n",
       "</style>\n",
       "<table border=\"1\" class=\"dataframe\">\n",
       "  <thead>\n",
       "    <tr style=\"text-align: right;\">\n",
       "      <th></th>\n",
       "      <th>open</th>\n",
       "      <th>high</th>\n",
       "      <th>low</th>\n",
       "      <th>close</th>\n",
       "      <th>volume</th>\n",
       "    </tr>\n",
       "    <tr>\n",
       "      <th>time</th>\n",
       "      <th></th>\n",
       "      <th></th>\n",
       "      <th></th>\n",
       "      <th></th>\n",
       "      <th></th>\n",
       "    </tr>\n",
       "  </thead>\n",
       "  <tbody>\n",
       "    <tr>\n",
       "      <th>2021-07-30 11:45:00-04:00</th>\n",
       "      <td>161.67</td>\n",
       "      <td>162.13</td>\n",
       "      <td>161.60</td>\n",
       "      <td>161.60</td>\n",
       "      <td>2161</td>\n",
       "    </tr>\n",
       "    <tr>\n",
       "      <th>2021-07-30 12:00:00-04:00</th>\n",
       "      <td>161.33</td>\n",
       "      <td>161.43</td>\n",
       "      <td>160.85</td>\n",
       "      <td>160.85</td>\n",
       "      <td>901</td>\n",
       "    </tr>\n",
       "    <tr>\n",
       "      <th>2021-07-30 12:15:00-04:00</th>\n",
       "      <td>160.75</td>\n",
       "      <td>160.75</td>\n",
       "      <td>160.21</td>\n",
       "      <td>160.45</td>\n",
       "      <td>840</td>\n",
       "    </tr>\n",
       "    <tr>\n",
       "      <th>2021-07-30 12:30:00-04:00</th>\n",
       "      <td>160.92</td>\n",
       "      <td>160.92</td>\n",
       "      <td>160.29</td>\n",
       "      <td>160.54</td>\n",
       "      <td>1771</td>\n",
       "    </tr>\n",
       "    <tr>\n",
       "      <th>2021-07-30 12:45:00-04:00</th>\n",
       "      <td>160.59</td>\n",
       "      <td>160.59</td>\n",
       "      <td>160.09</td>\n",
       "      <td>160.36</td>\n",
       "      <td>660</td>\n",
       "    </tr>\n",
       "    <tr>\n",
       "      <th>...</th>\n",
       "      <td>...</td>\n",
       "      <td>...</td>\n",
       "      <td>...</td>\n",
       "      <td>...</td>\n",
       "      <td>...</td>\n",
       "    </tr>\n",
       "    <tr>\n",
       "      <th>2021-08-10 14:45:00-04:00</th>\n",
       "      <td>156.79</td>\n",
       "      <td>156.98</td>\n",
       "      <td>156.03</td>\n",
       "      <td>156.92</td>\n",
       "      <td>1611</td>\n",
       "    </tr>\n",
       "    <tr>\n",
       "      <th>2021-08-10 15:00:00-04:00</th>\n",
       "      <td>156.64</td>\n",
       "      <td>156.84</td>\n",
       "      <td>156.64</td>\n",
       "      <td>156.84</td>\n",
       "      <td>599</td>\n",
       "    </tr>\n",
       "    <tr>\n",
       "      <th>2021-08-10 15:15:00-04:00</th>\n",
       "      <td>158.00</td>\n",
       "      <td>158.00</td>\n",
       "      <td>157.65</td>\n",
       "      <td>157.67</td>\n",
       "      <td>609</td>\n",
       "    </tr>\n",
       "    <tr>\n",
       "      <th>2021-08-10 15:30:00-04:00</th>\n",
       "      <td>158.94</td>\n",
       "      <td>159.75</td>\n",
       "      <td>158.86</td>\n",
       "      <td>159.75</td>\n",
       "      <td>1234</td>\n",
       "    </tr>\n",
       "    <tr>\n",
       "      <th>2021-08-10 15:45:00-04:00</th>\n",
       "      <td>159.62</td>\n",
       "      <td>159.69</td>\n",
       "      <td>158.85</td>\n",
       "      <td>159.11</td>\n",
       "      <td>2718</td>\n",
       "    </tr>\n",
       "  </tbody>\n",
       "</table>\n",
       "<p>200 rows × 5 columns</p>\n",
       "</div>"
      ],
      "text/plain": [
       "                             open    high     low   close  volume\n",
       "time                                                             \n",
       "2021-07-30 11:45:00-04:00  161.67  162.13  161.60  161.60    2161\n",
       "2021-07-30 12:00:00-04:00  161.33  161.43  160.85  160.85     901\n",
       "2021-07-30 12:15:00-04:00  160.75  160.75  160.21  160.45     840\n",
       "2021-07-30 12:30:00-04:00  160.92  160.92  160.29  160.54    1771\n",
       "2021-07-30 12:45:00-04:00  160.59  160.59  160.09  160.36     660\n",
       "...                           ...     ...     ...     ...     ...\n",
       "2021-08-10 14:45:00-04:00  156.79  156.98  156.03  156.92    1611\n",
       "2021-08-10 15:00:00-04:00  156.64  156.84  156.64  156.84     599\n",
       "2021-08-10 15:15:00-04:00  158.00  158.00  157.65  157.67     609\n",
       "2021-08-10 15:30:00-04:00  158.94  159.75  158.86  159.75    1234\n",
       "2021-08-10 15:45:00-04:00  159.62  159.69  158.85  159.11    2718\n",
       "\n",
       "[200 rows x 5 columns]"
      ]
     },
     "execution_count": 22,
     "metadata": {},
     "output_type": "execute_result"
    }
   ],
   "source": [
    "# Meme stock API URLs\n",
    "#Gamestop\n",
    "my_gme = 0\n",
    "headers = json.loads(open(\"keys.txt\", 'r').read())\n",
    "def hist_data(symbols, timeframe=\"15Min\", limit=200, start=\"\", end=\"\", after=\"\", until=\"\"):\n",
    "    df_data = {}\n",
    "    bar_url = \"https://data.alpaca.markets/v1\" + f\"/bars/{timeframe}\"\n",
    "    params = {\"symbols\":symbols,\n",
    "             \"limit\":limit,\n",
    "             \"start\":start,\n",
    "             \"end\":end,\n",
    "             \"after\":after,\n",
    "             \"until\":until}\n",
    "    r = requests.get(bar_url, headers=headers, params=params)\n",
    "    json_dump = r.json()\n",
    "    for symbol in json_dump:\n",
    "        temp_df = pd.DataFrame(json_dump[symbol])\n",
    "        temp_df.rename({\"t\":\"time\", \"o\":\"open\", \"h\":\"high\",\"l\":\"low\",\"c\":\"close\",\"v\":\"volume\"}, axis=1, inplace=True)\n",
    "        temp_df['time'] = pd.to_datetime(temp_df['time'], unit=\"s\")\n",
    "        temp_df.set_index(\"time\",inplace=True)\n",
    "        temp_df.index = temp_df.index.tz_localize(\"UTC\").tz_convert(\"America/Indiana/Petersburg\")\n",
    "        df_data[symbol] = temp_df\n",
    "    return df_data\n",
    "\n",
    "df = hist_data('GME,AAPL')['GME']\n",
    "df"
   ]
  },
  {
   "cell_type": "code",
   "execution_count": 20,
   "id": "2c0499b9-a2bc-4b49-ba22-9f6532966415",
   "metadata": {},
   "outputs": [],
   "source": [
    "title = 'Close Price History    '\n",
    "my_stocks = df"
   ]
  },
  {
   "cell_type": "code",
   "execution_count": 23,
   "id": "a1d37b34-c82f-470e-b8d2-c5a6ac3f364d",
   "metadata": {},
   "outputs": [
    {
     "ename": "NameError",
     "evalue": "name 'plt' is not defined",
     "output_type": "error",
     "traceback": [
      "\u001b[0;31m---------------------------------------------------------------------------\u001b[0m",
      "\u001b[0;31mNameError\u001b[0m                                 Traceback (most recent call last)",
      "\u001b[0;32m<ipython-input-23-ec840c3d3887>\u001b[0m in \u001b[0;36m<module>\u001b[0;34m\u001b[0m\n\u001b[1;32m      1\u001b[0m \u001b[0;31m#Create and plot the graph\u001b[0m\u001b[0;34m\u001b[0m\u001b[0;34m\u001b[0m\u001b[0;34m\u001b[0m\u001b[0m\n\u001b[1;32m      2\u001b[0m \u001b[0;34m\u001b[0m\u001b[0m\n\u001b[0;32m----> 3\u001b[0;31m \u001b[0mplt\u001b[0m\u001b[0;34m.\u001b[0m\u001b[0mfigure\u001b[0m\u001b[0;34m(\u001b[0m\u001b[0mfigsize\u001b[0m\u001b[0;34m=\u001b[0m\u001b[0;34m(\u001b[0m\u001b[0;36m12.2\u001b[0m\u001b[0;34m,\u001b[0m\u001b[0;36m4.5\u001b[0m\u001b[0;34m)\u001b[0m\u001b[0;34m)\u001b[0m \u001b[0;31m#width = 12.2in, height = 4.5\u001b[0m\u001b[0;34m\u001b[0m\u001b[0;34m\u001b[0m\u001b[0m\n\u001b[0m\u001b[1;32m      4\u001b[0m \u001b[0mplt\u001b[0m\u001b[0;34m.\u001b[0m\u001b[0mplot\u001b[0m\u001b[0;34m(\u001b[0m \u001b[0mmy_stocks\u001b[0m\u001b[0;34m[\u001b[0m\u001b[0;34m'close'\u001b[0m\u001b[0;34m]\u001b[0m\u001b[0;34m,\u001b[0m  \u001b[0mlabel\u001b[0m\u001b[0;34m=\u001b[0m\u001b[0;34m'close'\u001b[0m\u001b[0;34m)\u001b[0m\u001b[0;31m#plt.plot( X-Axis , Y-Axis, line_width, alpha_for_blending,  label)\u001b[0m\u001b[0;34m\u001b[0m\u001b[0;34m\u001b[0m\u001b[0m\n\u001b[1;32m      5\u001b[0m \u001b[0mplt\u001b[0m\u001b[0;34m.\u001b[0m\u001b[0mxticks\u001b[0m\u001b[0;34m(\u001b[0m\u001b[0mrotation\u001b[0m\u001b[0;34m=\u001b[0m\u001b[0;36m45\u001b[0m\u001b[0;34m)\u001b[0m\u001b[0;34m\u001b[0m\u001b[0;34m\u001b[0m\u001b[0m\n",
      "\u001b[0;31mNameError\u001b[0m: name 'plt' is not defined"
     ]
    }
   ],
   "source": [
    "#Create and plot the graph\n",
    "\n",
    "plt.figure(figsize=(12.2,4.5)) #width = 12.2in, height = 4.5\n",
    "plt.plot( my_stocks['close'],  label='close')#plt.plot( X-Axis , Y-Axis, line_width, alpha_for_blending,  label)\n",
    "plt.xticks(rotation=45) \n",
    "plt.title(title)\n",
    "plt.xlabel('Date',fontsize=18)\n",
    "plt.ylabel('Price USD ($)',fontsize=18)\n",
    "plt.show()\n"
   ]
  },
  {
   "cell_type": "code",
   "execution_count": null,
   "id": "3ae0a16b-3963-42d2-bb87-f1a7418986ae",
   "metadata": {},
   "outputs": [],
   "source": []
  },
  {
   "cell_type": "code",
   "execution_count": 31,
   "id": "35c5d43e-5d64-4d0f-9c37-e8f493a5aaac",
   "metadata": {},
   "outputs": [],
   "source": [
    "#import json\n"
   ]
  },
  {
   "cell_type": "code",
   "execution_count": 18,
   "id": "30e2f095-7a41-40a7-bbaf-244d20337059",
   "metadata": {},
   "outputs": [
    {
     "name": "stdout",
     "output_type": "stream",
     "text": [
      "{\n",
      "    \"data\": {},\n",
      "    \"metadata\": {\n",
      "        \"timestamp\": 1628351944,\n",
      "        \"num_cryptocurrencies\": 3105,\n",
      "        \"error\": \"unknown id\"\n",
      "    }\n",
      "}\n"
     ]
    }
   ],
   "source": [
    "#output btc_json"
   ]
  },
  {
   "cell_type": "code",
   "execution_count": null,
   "id": "2b4d2e79-3963-4f5c-b875-1b7a53a5edf0",
   "metadata": {},
   "outputs": [],
   "source": []
  }
 ],
 "metadata": {
  "kernelspec": {
   "display_name": "Python 3",
   "language": "python",
   "name": "python3"
  },
  "language_info": {
   "codemirror_mode": {
    "name": "ipython",
    "version": 3
   },
   "file_extension": ".py",
   "mimetype": "text/x-python",
   "name": "python",
   "nbconvert_exporter": "python",
   "pygments_lexer": "ipython3",
   "version": "3.7.10"
  }
 },
 "nbformat": 4,
 "nbformat_minor": 5
}

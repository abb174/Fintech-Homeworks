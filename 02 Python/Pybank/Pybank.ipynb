{
 "cells": [
  {
   "cell_type": "code",
   "execution_count": 29,
   "metadata": {},
   "outputs": [],
   "source": [
    "from pathlib import Path\n",
    "import csv"
   ]
  },
  {
   "cell_type": "code",
   "execution_count": 30,
   "metadata": {},
   "outputs": [
    {
     "name": "stdout",
     "output_type": "stream",
     "text": [
      "Current Working Directory : /Users/Atri/Desktop/Homework--Pybank-and-PyRamen-main/Pybank\n"
     ]
    }
   ],
   "source": [
    "#print current working directory\n",
    "print(f\"Current Working Directory : {Path.cwd()}\")"
   ]
  },
  {
   "cell_type": "code",
   "execution_count": 31,
   "metadata": {},
   "outputs": [],
   "source": [
    "#set the path using pathlib\n",
    "csvpath = Path('C:/Users/Atri/Desktop/nu-chi-virt-fin-pt-04-2021-u-c/02-Python/Homework/Instructions/PyBank/Resources/budget_data.csv')"
   ]
  },
  {
   "cell_type": "code",
   "execution_count": 32,
   "metadata": {},
   "outputs": [],
   "source": [
    "csvpath = Path('../Resources/budget_data.csv')"
   ]
  },
  {
   "cell_type": "code",
   "execution_count": 33,
   "metadata": {},
   "outputs": [],
   "source": [
    "##initialize variable to hold profits and losses as list\n",
    "profits_and_losses = []\n",
    "\n",
    "## initialize the line number variable\n",
    "line_num = 0"
   ]
  },
  {
   "cell_type": "code",
   "execution_count": 69,
   "metadata": {},
   "outputs": [
    {
     "name": "stdout",
     "output_type": "stream",
     "text": [
      "<class '_io.TextIOWrapper'>\n",
      "<class '_csv.reader'>\n",
      "['Date', 'Profit/Losses']<----- Header\n",
      "['Jan-2010', '867884']\n",
      "['Feb-2010', '984655']\n",
      "['Mar-2010', '322013']\n",
      "['Apr-2010', '-69417']\n",
      "['May-2010', '310503']\n",
      "['Jun-2010', '522857']\n",
      "['Jul-2010', '1033096']\n",
      "['Aug-2010', '604885']\n",
      "['Sep-2010', '-216386']\n",
      "['Oct-2010', '477532']\n",
      "['Nov-2010', '893810']\n",
      "['Dec-2010', '-80353']\n",
      "['Jan-2011', '779806']\n",
      "['Feb-2011', '-335203']\n",
      "['Mar-2011', '697845']\n",
      "['Apr-2011', '793163']\n",
      "['May-2011', '485070']\n",
      "['Jun-2011', '584122']\n",
      "['Jul-2011', '62729']\n",
      "['Aug-2011', '668179']\n",
      "['Sep-2011', '899906']\n",
      "['Oct-2011', '834719']\n",
      "['Nov-2011', '132003']\n",
      "['Dec-2011', '309978']\n",
      "['Jan-2012', '-755566']\n",
      "['Feb-2012', '1170593']\n",
      "['Mar-2012', '252788']\n",
      "['Apr-2012', '1151518']\n",
      "['May-2012', '817256']\n",
      "['Jun-2012', '570757']\n",
      "['Jul-2012', '506702']\n",
      "['Aug-2012', '-1022534']\n",
      "['Sep-2012', '475062']\n",
      "['Oct-2012', '779976']\n",
      "['Nov-2012', '144175']\n",
      "['Dec-2012', '542494']\n",
      "['Jan-2013', '359333']\n",
      "['Feb-2013', '321469']\n",
      "['Mar-2013', '67780']\n",
      "['Apr-2013', '471435']\n",
      "['May-2013', '565603']\n",
      "['Jun-2013', '872480']\n",
      "['Jul-2013', '789480']\n",
      "['Aug-2013', '999942']\n",
      "['Sep-2013', '-1196225']\n",
      "['Oct-2013', '268997']\n",
      "['Nov-2013', '-687986']\n",
      "['Dec-2013', '1150461']\n",
      "['Jan-2014', '682458']\n",
      "['Feb-2014', '617856']\n",
      "['Mar-2014', '824098']\n",
      "['Apr-2014', '581943']\n",
      "['May-2014', '132864']\n",
      "['Jun-2014', '448062']\n",
      "['Jul-2014', '689161']\n",
      "['Aug-2014', '800701']\n",
      "['Sep-2014', '1166643']\n",
      "['Oct-2014', '947333']\n",
      "['Nov-2014', '578668']\n",
      "['Dec-2014', '988505']\n",
      "['Jan-2015', '1139715']\n",
      "['Feb-2015', '1029471']\n",
      "['Mar-2015', '687533']\n",
      "['Apr-2015', '-524626']\n",
      "['May-2015', '158620']\n",
      "['Jun-2015', '87795']\n",
      "['Jul-2015', '423389']\n",
      "['Aug-2015', '840723']\n",
      "['Sep-2015', '568529']\n",
      "['Oct-2015', '332067']\n",
      "['Nov-2015', '989499']\n",
      "['Dec-2015', '778237']\n",
      "['Jan-2016', '650000']\n",
      "['Feb-2016', '-1100387']\n",
      "['Mar-2016', '-174946']\n",
      "['Apr-2016', '757143']\n",
      "['May-2016', '445709']\n",
      "['Jun-2016', '712961']\n",
      "['Jul-2016', '-1163797']\n",
      "['Aug-2016', '569899']\n",
      "['Sep-2016', '768450']\n",
      "['Oct-2016', '102685']\n",
      "['Nov-2016', '795914']\n",
      "['Dec-2016', '60988']\n",
      "['Jan-2017', '138230']\n",
      "['Feb-2017', '671099']\n"
     ]
    }
   ],
   "source": [
    "##open input path as a file object\n",
    "with open(csvpath, 'r') as csvfile:\n",
    "   ##print datatype of file object\n",
    "    print(type(csvfile))\n",
    "   ##pass in csvfile into csv reader function using ',' as a delimiter \n",
    "    csvreader = csv.reader(csvfile, delimiter = ',')\n",
    "    \n",
    "    ##print the datatype of the csvreader\n",
    "    print(type(csvreader))\n",
    "    \n",
    "    ##go to the next row from start of file\n",
    "    header = next(csvreader)\n",
    "    line_num += 1\n",
    "    print(f\"{header}<----- Header\")\n",
    "    \n",
    "    ##read each row of data after the header\n",
    "    for row in csvreader:\n",
    "        #print the row\n",
    "        print(row)\n",
    "        \n",
    "        ##set the profits_and_losses variable equal to he value in row 2\n",
    "        profit_or_loss = int(row[1])\n",
    "        \n",
    "        ##append the row profits and losses to the list profits_and_losses\n",
    "        \n",
    "        profits_and_losses.append(profit_or_loss)"
   ]
  },
  {
   "cell_type": "code",
   "execution_count": 35,
   "metadata": {},
   "outputs": [
    {
     "name": "stdout",
     "output_type": "stream",
     "text": [
      "[867884, 984655, 322013, -69417, 310503, 522857, 1033096, 604885, -216386, 477532, 893810, -80353, 779806, -335203, 697845, 793163, 485070, 584122, 62729, 668179, 899906, 834719, 132003, 309978, -755566, 1170593, 252788, 1151518, 817256, 570757, 506702, -1022534, 475062, 779976, 144175, 542494, 359333, 321469, 67780, 471435, 565603, 872480, 789480, 999942, -1196225, 268997, -687986, 1150461, 682458, 617856, 824098, 581943, 132864, 448062, 689161, 800701, 1166643, 947333, 578668, 988505, 1139715, 1029471, 687533, -524626, 158620, 87795, 423389, 840723, 568529, 332067, 989499, 778237, 650000, -1100387, -174946, 757143, 445709, 712961, -1163797, 569899, 768450, 102685, 795914, 60988, 138230, 671099]\n"
     ]
    }
   ],
   "source": [
    "        \n",
    " ## print list of profits and losses\n",
    "print(profits_and_losses)"
   ]
  },
  {
   "cell_type": "code",
   "execution_count": 52,
   "metadata": {},
   "outputs": [],
   "source": [
    "## initialize metric variables\n",
    "\n",
    "total_months = 0\n",
    "total_amount = 0\n",
    "average_change = 0\n",
    "greatest_increase_amount = 0\n",
    "greatest_decrease_amount = 0\n",
    "month_and_year1 = []\n",
    "month_and_year2 = []\n"
   ]
  },
  {
   "cell_type": "code",
   "execution_count": 68,
   "metadata": {},
   "outputs": [
    {
     "name": "stdout",
     "output_type": "stream",
     "text": [
      "86\n"
     ]
    }
   ],
   "source": [
    "##count total number of months and assign it to value total_months\n",
    "total_months = len(profits_and_losses)\n",
    "print(total_months)"
   ]
  },
  {
   "cell_type": "code",
   "execution_count": 54,
   "metadata": {},
   "outputs": [],
   "source": [
    "## sum total profits and losses and assign it to variable total_amount\n",
    "total_amount = sum(profits_and_losses) \n"
   ]
  },
  {
   "cell_type": "code",
   "execution_count": 55,
   "metadata": {},
   "outputs": [
    {
     "name": "stdout",
     "output_type": "stream",
     "text": [
      "86 38382578 446309.05\n"
     ]
    }
   ],
   "source": [
    "##calculate average change\n",
    "average_change = round(total_amount / total_months, 2)"
   ]
  },
  {
   "cell_type": "code",
   "execution_count": 62,
   "metadata": {},
   "outputs": [],
   "source": [
    "## find greatest increase in profits\n",
    "greatest_increase_amount = max(profits_and_losses)"
   ]
  },
  {
   "cell_type": "code",
   "execution_count": 63,
   "metadata": {},
   "outputs": [],
   "source": [
    "greatest_decrease_amount = min(profits_and_losses)\n",
    " "
   ]
  },
  {
   "cell_type": "code",
   "execution_count": 64,
   "metadata": {},
   "outputs": [
    {
     "name": "stdout",
     "output_type": "stream",
     "text": [
      "86 38382578 446309.05 1170593 -1196225\n"
     ]
    }
   ],
   "source": [
    "\n",
    "## print metric variables to check\n",
    "print(total_months, total_amount, average_change, greatest_increase_amount, greatest_decrease_amount)"
   ]
  },
  {
   "cell_type": "code",
   "execution_count": 67,
   "metadata": {},
   "outputs": [
    {
     "name": "stdout",
     "output_type": "stream",
     "text": [
      "Financial Analysis\n",
      "------------------------------\n",
      "Total Months: 86\n",
      "Total: 38382578\n",
      "Average Change: $446309.05\n",
      "Greatest increase in profits:  1170593\n",
      "Greatest Decrease in profits:  -1196225\n"
     ]
    }
   ],
   "source": [
    " ##print the analysis to terminal and export file to path\n",
    "##file_to_output = Path(\"budget_analysis.txt\")\n",
    "##with open (file_to_output, \"w\") as txt_file:\n",
    "    print(\"Financial Analysis\") \n",
    "    print(\"------------------------------\")    \n",
    "    print(f\"Total Months: {total_months}\")\n",
    "    print(f\"Total: {total_amount}\")\n",
    "    print(f\"Average Change: ${average_change}\")\n",
    "    print(f\"Greatest increase in profits: {month_and_year1} {greatest_increase_amount}\")\n",
    "    print(f\"Greatest decrease in profits: {month_and_year2} {greatest_decrease_amount}\")\n",
    "    \n",
    "   # txt_file.write(f\"Financial Analysis\\n\")\n",
    "   # txt_file.write(f\"----------------------------\\n\")\n",
    "   # txt_file.write(f\"Total Months: {total_months}\\n\")\n",
    "   # txt_file.write(f\"Total: $ {total_amount}\\n\")\n",
    "   # txt_file.write(f\"Average Change: $ {average}\\n\")\n",
    "   # txt_file.write(f\"Greatest increase in profits: {(data.iloc[data['difference'].idxmax()][0])} (${(round(maximum, 2))})\\n\")\n",
    "   # txt_file.write(f\"Greatest decrease in profits: {(data.iloc[data['difference'].idxmin()][0])} (${(round(minimum, 2))})\\n\")\n",
    "\n"
   ]
  },
  {
   "cell_type": "code",
   "execution_count": null,
   "metadata": {},
   "outputs": [],
   "source": []
  }
 ],
 "metadata": {
  "kernelspec": {
   "display_name": "Python 3",
   "language": "python",
   "name": "python3"
  },
  "language_info": {
   "codemirror_mode": {
    "name": "ipython",
    "version": 3
   },
   "file_extension": ".py",
   "mimetype": "text/x-python",
   "name": "python",
   "nbconvert_exporter": "python",
   "pygments_lexer": "ipython3",
   "version": "3.8.5"
  }
 },
 "nbformat": 4,
 "nbformat_minor": 4
}

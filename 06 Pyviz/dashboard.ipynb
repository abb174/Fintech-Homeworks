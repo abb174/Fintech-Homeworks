{
 "cells": [
  {
   "cell_type": "markdown",
   "metadata": {},
   "source": [
    "# San Francisco Rental Prices Dashboard\n",
    "\n",
    "In this notebook, you will compile the visualizations from the previous analysis into functions that can be used for a Panel dashboard."
   ]
  },
  {
   "cell_type": "code",
   "execution_count": null,
   "metadata": {},
   "outputs": [],
   "source": [
    "# imports\n",
    "import panel as pn\n",
    "pn.extension('plotly')\n",
    "import plotly.express as px\n",
    "import pandas as pd\n",
    "import hvplot.pandas\n",
    "import matplotlib.pyplot as plt\n",
    "import os\n",
    "from pathlib import Path\n",
    "from dotenv import load_dotenv"
   ]
  },
  {
   "cell_type": "code",
   "execution_count": null,
   "metadata": {},
   "outputs": [],
   "source": [
    "# Read the Mapbox API key\n",
    "load_dotenv()\n",
    "map_box_api = os.getenv(\"mapbox\")\n",
    "px.set_mapbox_access_token(map_box_api)"
   ]
  },
  {
   "cell_type": "markdown",
   "metadata": {},
   "source": [
    "# Import Data"
   ]
  },
  {
   "cell_type": "code",
   "execution_count": null,
   "metadata": {},
   "outputs": [],
   "source": [
    "# Import the necessary CSVs to Pandas DataFrames\n",
    "# YOUR CODE HERE!\n",
    "\n",
    "csv_path1= Path(\"Data/neighborhoods_coordinates.csv\")\n",
    "csv_path2 = Path(\"Data/sfo_neighborhoods_census_data.csv\")\n",
    "\n",
    "sfo_data = pd.read_csv(csv_path2, index_col=\"year\")\n",
    "neighborhood_df = pd.read_csv(csv_path1)\n",
    "\n",
    "sfo_data.head()\n"
   ]
  },
  {
   "cell_type": "code",
   "execution_count": null,
   "metadata": {},
   "outputs": [],
   "source": [
    "neighborhood_df.head()\n"
   ]
  },
  {
   "cell_type": "markdown",
   "metadata": {},
   "source": [
    "- - -"
   ]
  },
  {
   "cell_type": "markdown",
   "metadata": {},
   "source": [
    "## Panel Visualizations\n",
    "\n",
    "In this section, you will copy the code for each plot type from your analysis notebook and place it into separate functions that Panel can use to create panes for the dashboard. \n",
    "\n",
    "These functions will convert the plot object to a Panel pane.\n",
    "\n",
    "Be sure to include any DataFrame transformation/manipulation code required along with the plotting code.\n",
    "\n",
    "Return a Panel pane object from each function that can be used to build the dashboard.\n",
    "\n",
    "Note: Remove any `.show()` lines from the code. We want to return the plots instead of showing them. The Panel dashboard will then display the plots."
   ]
  },
  {
   "cell_type": "code",
   "execution_count": null,
   "metadata": {},
   "outputs": [],
   "source": [
    "# Define Panel Visualization Functions\n",
    "def housing_units_per_year():\n",
    "    \"\"\"Housing Units Per Year.\"\"\"\n",
    "    \n",
    "    housing_units = (sfo_data[['housing_units']].groupby('year').mean())\n",
    "    min = housing_units.min()['housing_units']\n",
    "    max = housing_units.max()['housing_units']\n",
    "    \n",
    "    housing_plot = housing_units.hvplot.bar(ylim = (min-2000, max+2000),title=\"Housing Units in SF Avg per Year\",figsize=(12,8))\n",
    "\n",
    "    housing_pane = pn.panel(housing_plot)\n",
    "\n",
    "    return housing_plot\n",
    "\n",
    "\n",
    "    # YOUR CODE HERE!\n",
    "\n",
    "\n",
    "def average_gross_rent():\n",
    "    \"\"\"Average Gross Rent in San Francisco Per Year.\"\"\"\n",
    "    \n",
    "    avg_gross_rent = sfo_data[['gross_rent']].groupby('year').mean()\n",
    "\n",
    "    gross_rent_plot = avg_gross_rent.hvplot.line(title=\"Average Gross Rent per Year\",figsize=(12,8))\n",
    "    \n",
    "    gross_rent_pane = pn.panel(gross_rent_plot)\n",
    "    \n",
    "    return gross_rent_plot\n",
    "\n",
    "    # YOUR CODE HERE!\n",
    "\n",
    "\n",
    "\n",
    "\n",
    "def average_sales_price():\n",
    "    \"\"\"Average Sales Price Per Year.\"\"\"\n",
    "    \n",
    "    avg_sqft_price = sfo_data[['sale_price_sqr_foot']].groupby('year').mean()\n",
    "\n",
    "    avg_sqt_ft_plot = avg_sqft_price.hvplot.line(title= \"Average Sale Price Square Foot per Year\", figsize = (12,8))\n",
    "    \n",
    "    sales_price_pane = pn.panel(avg_sqt_ft_plot)\n",
    "    \n",
    "    return avg_sqt_ft_plot\n",
    "\n",
    "\n",
    "\n",
    "def average_price_by_neighborhood():\n",
    "    \"\"\"Average Prices by Neighborhood.\"\"\"\n",
    "    \n",
    "    grouped_neighborhood = sfo_data.groupby([sfo_data.index, \"neighborhood\"]).mean()\n",
    "    grouped_price = grouped_neighborhood['sale_price_sqr_foot']\n",
    "    grouped_df = pd.DataFrame(grouped_price).reset_index()\n",
    "    grouped_df.head()\n",
    "\n",
    "    \n",
    "    avg_price_neighborhood_plot = grouped_df.hvplot.line(\n",
    "    \"year\",\n",
    "    \"sale_price_sqr_foot\",\n",
    "    xlabel= \"Year\",\n",
    "    ylabel=\"Average Sale Price per Square Foot\",\n",
    "    groupby=\"neighborhood\",\n",
    "    )\n",
    "    \n",
    "    price_by_neighborhood_pane = pn.panel(avg_price_neighborhood_plot)\n",
    "    \n",
    "    return avg_price_neighborhood_plot\n",
    "    # YOUR CODE HERE!\n",
    "\n",
    "\n",
    "\n",
    "def top_most_expensive_neighborhoods():\n",
    "    \"\"\"Top 10 Most Expensive Neighborhoods.\"\"\"\n",
    "\n",
    "    df_expensive = sfo_data.groupby(\"neighborhood\").mean()\n",
    "    df_expensive = df_expensive.sort_values(\"sale_price_sqr_foot\", ascending=False).head(10)\n",
    "    df_expensive = df_expensive.reset_index()\n",
    "    df_expensive\n",
    "    \n",
    "    top_expensive_plot = df_expensive.hvplot.bar(\n",
    "    x =\"neighborhood\",\n",
    "    y =\"sale_price_sqr_foot\",\n",
    "    title=\"Top 10 Expensive Neighborhoods in San Francisco\",\n",
    "    xlabel=\"Neighborhood\",\n",
    "    ylabel=\"Average Sale Price per Square Foot\",\n",
    "    height = 400,\n",
    "    rot = 90,\n",
    "    )\n",
    "   \n",
    "    top_expensive_pane = pn.panel(top_expensive_plot)\n",
    "    \n",
    "    return top_expensive_plot\n",
    "    \n",
    "    # YOUR CODE HERE!\n",
    "\n",
    "\n",
    "\n",
    "def most_expensive_neighborhoods_rent_sales():\n",
    "    \"\"\"Comparison of Rent and Sales Prices of Most Expensive Neighborhoods.\"\"\"   \n",
    "    \n",
    "    df_expensive = sfo_data.groupby(\"neighborhood\").mean()\n",
    "    df_expensive = df_expensive.sort_values(\"sale_price_sqr_foot\", ascending=False).head(10)\n",
    "    df_expensive = df_expensive.reset_index()\n",
    "\n",
    "    expensive_neighorhood = sfo_data[(sfo_data['neighborhood'].isin(df_expensive['neighborhood']))]\n",
    "    \n",
    "    \n",
    "\n",
    "    stacked_graphs = expensive_neighorhood.hvplot.bar( x = 'year', y = ['sale_price_sqr_foot', 'gross_rent'], xlabel = 'Year', groupby = 'neighborhood', rot = 90, height = 400)\n",
    "\n",
    "    \n",
    "\n",
    "    return stacked_graphs\n",
    "\n",
    "    \n",
    "\n",
    "\n",
    "    \n",
    "    \n",
    "def parallel_coordinates():\n",
    "    \"\"\"Parallel Coordinates Plot.\"\"\"\n",
    "\n",
    "    \n",
    "\n",
    "\n",
    "def parallel_categories():\n",
    "    \"\"\"Parallel Categories Plot.\"\"\"\n",
    "    \n",
    "    # YOUR CODE HERE!\n",
    "\n",
    "\n",
    "\n",
    "def neighborhood_map():\n",
    "    \"\"\"Neighborhood Map.\"\"\"\n",
    "\n",
    "neighborhood_mean = sfo_data.groupby(\"neighborhood\").mean()\n",
    "    neighborhood_mean.reset_index(inplace=True)\n",
    "    \n",
    "    \n",
    "    avg_loc_neighborhood = pd.concat([neighborhood_df,\n",
    "                        neighborhood_mean['sale_price_sqr_foot'],\n",
    "                        neighborhood_mean['housing_units'],\n",
    "                        neighborhood_mean['gross_rent']\n",
    "                        ], axis=1).dropna()\n",
    "    \n",
    "    \n",
    "    px.set_mapbox_access_token(map_box_api)\n",
    "\n",
    "    \n",
    "    map_plot = px.scatter_mapbox(\n",
    "    avg_loc_neighborhood,\n",
    "    lat=\"Lat\",\n",
    "    lon=\"Lon\",\n",
    "    size=\"sale_price_sqr_foot\",\n",
    "    color=\"gross_rent\",\n",
    "    title=\"Average Sale Price per Square Foot and Gross Rent in San Francisco\"\n",
    "    )\n",
    "    \n",
    "    return map_plot\n",
    "\n",
    "\n",
    "def sunburst():\n",
    "    \"\"\"Sunburst Plot.\"\"\"\n",
    "    \n",
    "    # YOUR CODE HERE!\n"
   ]
  },
  {
   "cell_type": "markdown",
   "metadata": {},
   "source": [
    "## Panel Dashboard\n",
    "\n",
    "In this section, you will combine all of the plots into a single dashboard view using Panel. Be creative with your dashboard design!"
   ]
  },
  {
   "cell_type": "code",
   "execution_count": null,
   "metadata": {},
   "outputs": [],
   "source": [
    "# Create a Title for the Dashboard\n",
    "\n",
    "title = pn.pane.Markdown(\n",
    "    \"\"\"\n",
    "    # Real Estate Data in San Francisco from 2010 to 2016\n",
    "    \"\"\",\n",
    "    width = 600,\n",
    ")\n",
    "\n",
    "\n",
    "\n",
    "# Create a tab layout for the dashboard\n",
    "# YOUR CODE HERE!\n",
    "\n",
    "tabs = pn.Tabs(\n",
    "    ('Welcome', pn.Column(title, neighborhood_map())),\n",
    "    ('Average Rent and Sale Price 2010-2016', pn.Column(housing_units_per_year() ,average_gross_rent(), average_sales_price())),\n",
    "    ('Average Sale Price by Neighborhood', pn.Column(average_price_by_neighborhood(), )),\n",
    "    ('Most Expensive Neighborhoods', pn.Column(top_most_expensive_neighborhoods(), most_expensive_neighborhoods_rent_sales())))\n",
    "    \n",
    "panel = pn.Column(title, tabs, width = 800)\n",
    "\n",
    "\n",
    "# Create the dashboard\n",
    "# YOUR CODE HERE!\n",
    "\n",
    "panel.servable()\n"
   ]
  },
  {
   "cell_type": "markdown",
   "metadata": {},
   "source": [
    "## Serve the Panel Dashboard"
   ]
  },
  {
   "cell_type": "code",
   "execution_count": null,
   "metadata": {},
   "outputs": [],
   "source": [
    "# Serve the# dashboard\n",
    "# YOUR CODE HERE!"
   ]
  },
  {
   "cell_type": "markdown",
   "metadata": {},
   "source": [
    "# Debugging\n",
    "\n",
    "Note: Some of the Plotly express plots may not render in the notebook through the panel functions.\n",
    "\n",
    "However, you can test each plot by uncommenting the following code"
   ]
  },
  {
   "cell_type": "code",
   "execution_count": null,
   "metadata": {},
   "outputs": [],
   "source": [
    "housing_units_per_year()"
   ]
  },
  {
   "cell_type": "code",
   "execution_count": null,
   "metadata": {},
   "outputs": [],
   "source": [
    "average_gross_rent()"
   ]
  },
  {
   "cell_type": "code",
   "execution_count": null,
   "metadata": {},
   "outputs": [],
   "source": [
    "average_sales_price()"
   ]
  },
  {
   "cell_type": "code",
   "execution_count": null,
   "metadata": {},
   "outputs": [],
   "source": [
    "average_price_by_neighborhood()"
   ]
  },
  {
   "cell_type": "code",
   "execution_count": null,
   "metadata": {},
   "outputs": [],
   "source": [
    "top_most_expensive_neighborhoods()"
   ]
  },
  {
   "cell_type": "code",
   "execution_count": null,
   "metadata": {},
   "outputs": [],
   "source": [
    "most_expensive_neighborhoods_rent_sales()"
   ]
  },
  {
   "cell_type": "code",
   "execution_count": null,
   "metadata": {},
   "outputs": [],
   "source": [
    "neighborhood_map().show()"
   ]
  },
  {
   "cell_type": "code",
   "execution_count": null,
   "metadata": {},
   "outputs": [],
   "source": [
    "# parallel_categories()"
   ]
  },
  {
   "cell_type": "code",
   "execution_count": null,
   "metadata": {},
   "outputs": [],
   "source": [
    "# parallel_coordinates()"
   ]
  },
  {
   "cell_type": "code",
   "execution_count": null,
   "metadata": {},
   "outputs": [],
   "source": [
    "# sunburst()"
   ]
  },
  {
   "cell_type": "code",
   "execution_count": null,
   "metadata": {},
   "outputs": [],
   "source": []
  }
 ],
 "metadata": {
  "file_extension": ".py",
  "kernelspec": {
   "display_name": "Python [conda env:pyvizenv] *",
   "language": "python",
   "name": "conda-env-pyvizenv-py"
  },
  "language_info": {
   "codemirror_mode": {
    "name": "ipython",
    "version": 3
   },
   "file_extension": ".py",
   "mimetype": "text/x-python",
   "name": "python",
   "nbconvert_exporter": "python",
   "pygments_lexer": "ipython3",
   "version": "3.7.10"
  },
  "mimetype": "text/x-python",
  "name": "python",
  "npconvert_exporter": "python",
  "pygments_lexer": "ipython3",
  "version": 3
 },
 "nbformat": 4,
 "nbformat_minor": 4
}
